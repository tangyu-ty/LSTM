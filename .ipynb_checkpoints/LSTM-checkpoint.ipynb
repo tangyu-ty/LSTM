{
 "cells": [
  {
   "cell_type": "code",
   "execution_count": 1,
   "metadata": {},
   "outputs": [],
   "source": [
    "import  pandas_datareader.data as pd_data\n",
    "import datetime\n",
    "start = datetime.datetime(2000,1,1)\n",
    "end = datetime.datetime(2021,9,1)\n",
    "df = pd_data.DataReader('GOOGL','stooq',start,end)\n",
    "#Google股票，世界银行从各种互联网资源中提取数据到pandas数据库中。stooq为来源之一"
   ]
  },
  {
   "cell_type": "code",
   "execution_count": 2,
   "metadata": {
    "pycharm": {
     "name": "#%%\n"
    }
   },
   "outputs": [
    {
     "name": "stdout",
     "output_type": "stream",
     "text": [
      "                Open      High       Low     Close      Volume\n",
      "Date                                                          \n",
      "2004-08-19    50.000    52.030    47.980    50.170  44703800.0\n",
      "2004-08-20    50.505    54.540    50.250    54.155  22857200.0\n",
      "2004-08-23    55.375    56.740    54.525    54.700  18274400.0\n",
      "2004-08-24    55.620    55.800    51.785    52.435  15262600.0\n",
      "2004-08-25    52.480    54.000    51.940    53.000   9197800.0\n",
      "...              ...       ...       ...       ...         ...\n",
      "2021-08-26  2835.000  2848.350  2827.140  2828.810   1030466.0\n",
      "2021-08-27  2833.050  2890.250  2829.940  2880.080   1439010.0\n",
      "2021-08-30  2888.000  2919.410  2883.260  2891.810   1221710.0\n",
      "2021-08-31  2902.940  2903.425  2885.620  2893.950   1122438.0\n",
      "2021-09-01  2900.000  2925.075  2897.670  2904.310   1096805.0\n",
      "\n",
      "[4289 rows x 5 columns]\n"
     ]
    }
   ],
   "source": [
    "df.dropna(inplace=(True))#去除空值\n",
    "df.sort_index(inplace=True)\n",
    "#inplace(原地)排序，根据之前传进来的日期\n",
    "print(df)"
   ]
  },
  {
   "cell_type": "code",
   "execution_count": 3,
   "metadata": {
    "pycharm": {
     "name": "#%%\n"
    }
   },
   "outputs": [],
   "source": [
    "pre_days= 10 #目标是预测pre_days天后的,往上移动pre_days个\n",
    "df['label']=df['Close'].shift(-pre_days)\n",
    "#label列是收盘价的前pre_days天的结果\n"
   ]
  },
  {
   "cell_type": "code",
   "execution_count": 4,
   "metadata": {
    "pycharm": {
     "name": "#%%\n"
    }
   },
   "outputs": [
    {
     "name": "stdout",
     "output_type": "stream",
     "text": [
      "[-1.08801034 -1.08523099 -1.08961219 -1.0866679   4.89712792]\n"
     ]
    }
   ],
   "source": [
    "from sklearn.preprocessing import StandardScaler\n",
    "scaler = StandardScaler()\n",
    "sca_X=scaler.fit_transform(df.iloc[:,:-1])\n",
    "#iloc,pandas的类似数组的数据结构，所有行和0到倒数第2列，直接fit_transform\n",
    "#fit_transform 先拟合数据(Compute the mean and std to be used for later scaling.)计算平均值和标准差，用于以后的缩放\n",
    "#再实现统一处理（Perform standardization by centering and scaling.）通过居中和缩放执行标准化\n",
    "print(sca_X[0])\n",
    "#sca_X把每一列都做了处理"
   ]
  },
  {
   "cell_type": "code",
   "execution_count": 5,
   "metadata": {
    "pycharm": {
     "name": "#%%\n"
    }
   },
   "outputs": [
    {
     "name": "stdout",
     "output_type": "stream",
     "text": [
      "10\n",
      "4280\n",
      "10\n",
      "4270\n",
      "4270\n"
     ]
    }
   ],
   "source": [
    "mem_his_days = 10\n",
    "#记忆的天数\n",
    "from collections import deque\n",
    "deq = deque(maxlen=mem_his_days)\n",
    "#队列的最大长度为记忆天数\n",
    "\n",
    "X = []\n",
    "for i in sca_X:\n",
    "    list(i)\n",
    "    deq.append(list(i))\n",
    "    if len(deq)==mem_his_days:\n",
    "        X.append(list(deq))\n",
    "#X的shape是(4330,mem_his_days,5);每个样本存的是(mem_his_days，5)的shape\n",
    "#每次fori的时候，i是一个5的张量，然后每次X.append5个张量，\n",
    "# 也就是说mem_his_days天的数据*每天的5个特征\n",
    "X_latey = X[-pre_days:]\n",
    "print(len(X[0]))\n",
    "print(len(X))\n",
    "#少的是men_his_days-1，序列未满时的值\n",
    "print(len(X_latey))\n",
    "X=X[:-pre_days]\n",
    "#删掉nan的值。\n",
    "#得到纯粹的训练集\n",
    "print(len(X))\n",
    "y = df['label'].values[mem_his_days-1:-pre_days]\n",
    "print(len(y))\n",
    "#y标签从第mem_his_days-1天开始作为训练标签\n",
    "#最后-pre_days个数据作为输出，而不是训练。\n"
   ]
  },
  {
   "cell_type": "code",
   "execution_count": 6,
   "metadata": {
    "pycharm": {
     "name": "#%%\n"
    }
   },
   "outputs": [
    {
     "name": "stdout",
     "output_type": "stream",
     "text": [
      "(4270, 10, 5)\n",
      "(4270,)\n"
     ]
    }
   ],
   "source": [
    "import numpy as np\n",
    "X = np.array(X)\n",
    "#4330个样本，每个样本有(5天*每天5个特征)\n",
    "y = np.array(y)\n",
    "print(X.shape)\n",
    "#4330个样本，每个样本5个特征\n",
    "print(y.shape)\n",
    "#4330个标签"
   ]
  },
  {
   "cell_type": "code",
   "execution_count": 7,
   "metadata": {},
   "outputs": [
    {
     "name": "stdout",
     "output_type": "stream",
     "text": [
      "[[ 3.96439883  3.94150952  3.97834423  3.98111028 -0.73007435]\n",
      " [ 3.9781129   3.9461135   3.99227234  3.96167173 -0.71325376]\n",
      " [ 3.97433821  3.97285418  3.99721796  4.00617578 -0.73073584]\n",
      " [ 4.02743041  3.99496476  4.03644816  4.00215924 -0.72015149]\n",
      " [ 4.0213416   3.99158018  4.03288961  3.98215231 -0.7462391 ]\n",
      " [ 3.97559011  3.97721387  4.00051824  4.01682341 -0.73874526]\n",
      " [ 4.02394025  3.99812911  4.06202767  4.03703875 -0.74241505]\n",
      " [ 4.03436882  4.01714637  3.99566827  4.05909184 -0.70098576]\n",
      " [ 4.04290853  4.01350077  4.02563857  3.99664597 -0.70537317]\n",
      " [ 3.99548784  3.9698569   3.99653878  3.95070202 -0.72114783]]\n",
      "2904.31\n"
     ]
    }
   ],
   "source": [
    "print(X[-1])\n",
    "print(y[-1])"
   ]
  },
  {
   "cell_type": "code",
   "execution_count": 34,
   "metadata": {
    "pycharm": {
     "name": "#%%\n"
    }
   },
   "outputs": [
    {
     "name": "stdout",
     "output_type": "stream",
     "text": [
      "(3843, 10, 5)\n"
     ]
    }
   ],
   "source": [
    "from sklearn.model_selection import train_test_split\n",
    "X_train, X_test, y_train, y_test = train_test_split(X, y,shuffle=False, test_size=0.1)\n",
    "print(X_train.shape)"
   ]
  },
  {
   "cell_type": "code",
   "execution_count": 9,
   "metadata": {
    "pycharm": {
     "name": "#%%\n"
    }
   },
   "outputs": [
    {
     "name": "stdout",
     "output_type": "stream",
     "text": [
      "WARNING:tensorflow:Layer lstm will not use cuDNN kernels since it doesn't meet the criteria. It will use a generic GPU kernel as fallback when running on GPU.\n",
      "WARNING:tensorflow:Layer lstm_1 will not use cuDNN kernels since it doesn't meet the criteria. It will use a generic GPU kernel as fallback when running on GPU.\n"
     ]
    }
   ],
   "source": [
    "#构建模型\n",
    "import tensorflow as tf\n",
    "from tensorflow.keras.models import Sequential\n",
    "from tensorflow.keras.layers import LSTM,Dense,Dropout\n",
    "model = Sequential()\n",
    "#序列添加\n",
    "model.add(LSTM(16,input_shape=X.shape[1:],activation='relu',return_sequences=True))\n",
    "#一层16个lstm单元，返回16个序列的h隐藏变量给下一层\n",
    "model.add(Dropout(0.1))\n",
    "\n",
    "\n",
    "\n",
    "model.add(LSTM(16, activation='relu'))\n",
    "#第二层，返回输出序列的最后一个输出\n",
    "model.add(Dropout(0.1))\n",
    "\n",
    "model.add(Dense(8,activation='relu'))\n",
    "#全连接层\n",
    "model.add(Dropout(0.1))\n",
    "\n",
    "model.add(Dense(1))\n",
    "#全连接层\n",
    "\n",
    "model.compile(optimizer=\"Adam\", loss=\"mse\", metrics=[\"mape\"])\n",
    "#MeanAbsolutePercentageError 平均绝对百分比误差 metrics(度量)\n",
    "#MeanSquaredError 均方误差\n",
    "#LSTM，10个神经元\n"
   ]
  },
  {
   "cell_type": "code",
   "execution_count": null,
   "metadata": {},
   "outputs": [],
   "source": []
  },
  {
   "cell_type": "code",
   "execution_count": 10,
   "metadata": {
    "pycharm": {
     "name": "#%%\n"
    }
   },
   "outputs": [
    {
     "name": "stdout",
     "output_type": "stream",
     "text": [
      "Epoch 1/6\n",
      "121/121 [==============================] - 22s 141ms/step - loss: 288513.3438 - mape: 85.4385 - val_loss: 5659657.5000 - val_mape: 90.9366\n",
      "Epoch 2/6\n",
      "121/121 [==============================] - 16s 136ms/step - loss: 32423.8008 - mape: 30.3804 - val_loss: 917115.1875 - val_mape: 33.2326\n",
      "Epoch 3/6\n",
      "121/121 [==============================] - 18s 152ms/step - loss: 24568.5957 - mape: 26.7519 - val_loss: 534012.3125 - val_mape: 24.9788\n",
      "Epoch 4/6\n",
      "121/121 [==============================] - 19s 155ms/step - loss: 20912.4414 - mape: 23.3825 - val_loss: 429859.6250 - val_mape: 22.3966\n",
      "Epoch 5/6\n",
      "121/121 [==============================] - 18s 148ms/step - loss: 19640.7480 - mape: 21.5997 - val_loss: 290558.7188 - val_mape: 18.2769\n",
      "Epoch 6/6\n",
      "121/121 [==============================] - 16s 136ms/step - loss: 16868.8203 - mape: 19.6883 - val_loss: 152979.7969 - val_mape: 14.5463\n"
     ]
    },
    {
     "data": {
      "text/plain": [
       "<keras.callbacks.History at 0x18d8ba79ee0>"
      ]
     },
     "execution_count": 10,
     "metadata": {},
     "output_type": "execute_result"
    }
   ],
   "source": [
    "from tensorflow import keras\n",
    "\n",
    "tensorboard_callback = keras.callbacks.TensorBoard(log_dir='./logs/log')\n",
    "model.fit(X_train,y_train,batch_size=32,epochs=6,validation_data=(X_test,y_test),callbacks=[tensorboard_callback])\n"
   ]
  },
  {
   "cell_type": "code",
   "execution_count": 11,
   "metadata": {
    "pycharm": {
     "name": "#%%\n"
    }
   },
   "outputs": [],
   "source": [
    "from tensorflow.keras.models import load_model\n",
    "\n",
    "\n",
    "#best_model = load_model('./logs/model')\n",
    "best_model = model"
   ]
  },
  {
   "cell_type": "code",
   "execution_count": 35,
   "metadata": {
    "pycharm": {
     "name": "#%%\n"
    }
   },
   "outputs": [
    {
     "name": "stdout",
     "output_type": "stream",
     "text": [
      "input_shape: (10, 5)\n",
      "Model: \"sequential\"\n",
      "_________________________________________________________________\n",
      " Layer (type)                Output Shape              Param #   \n",
      "=================================================================\n",
      " lstm (LSTM)                 (None, 10, 16)            1408      \n",
      "                                                                 \n",
      " dropout (Dropout)           (None, 10, 16)            0         \n",
      "                                                                 \n",
      " lstm_1 (LSTM)               (None, 16)                2112      \n",
      "                                                                 \n",
      " dropout_1 (Dropout)         (None, 16)                0         \n",
      "                                                                 \n",
      " dense (Dense)               (None, 8)                 136       \n",
      "                                                                 \n",
      " dropout_2 (Dropout)         (None, 8)                 0         \n",
      "                                                                 \n",
      " dense_1 (Dense)             (None, 1)                 9         \n",
      "                                                                 \n",
      "=================================================================\n",
      "Total params: 3,665\n",
      "Trainable params: 3,665\n",
      "Non-trainable params: 0\n",
      "_________________________________________________________________\n",
      "None\n",
      "14/14 [==============================] - 0s 13ms/step - loss: 152979.7969 - mape: 14.5463\n",
      "[152979.796875, 14.546294212341309]\n",
      "INFO:tensorflow:Assets written to: ./logs/model\\assets\n"
     ]
    },
    {
     "name": "stderr",
     "output_type": "stream",
     "text": [
      "INFO:tensorflow:Assets written to: ./logs/model\\assets\n",
      "WARNING:absl:<keras.layers.recurrent.LSTMCell object at 0x0000018DE843E5B0> has the same name 'LSTMCell' as a built-in Keras object. Consider renaming <class 'keras.layers.recurrent.LSTMCell'> to avoid naming conflicts when loading with `tf.keras.models.load_model`. If renaming is not possible, pass the object in the `custom_objects` parameter of the load function.\n",
      "WARNING:absl:<keras.layers.recurrent.LSTMCell object at 0x0000018D85A17850> has the same name 'LSTMCell' as a built-in Keras object. Consider renaming <class 'keras.layers.recurrent.LSTMCell'> to avoid naming conflicts when loading with `tf.keras.models.load_model`. If renaming is not possible, pass the object in the `custom_objects` parameter of the load function.\n"
     ]
    }
   ],
   "source": [
    "print(\"input_shape:\",X.shape[1:])\n",
    "print(best_model.summary())\n",
    "print(best_model.evaluate(X_test,y_test))\n",
    "pre = best_model.predict(X_test)\n",
    "\n",
    "model.save(\"./logs/model\")"
   ]
  },
  {
   "cell_type": "code",
   "execution_count": 36,
   "metadata": {},
   "outputs": [
    {
     "name": "stdout",
     "output_type": "stream",
     "text": [
      "427\n",
      "427\n"
     ]
    }
   ],
   "source": [
    "print(len(y_test))\n",
    "print(len(pre))"
   ]
  },
  {
   "cell_type": "code",
   "execution_count": 44,
   "metadata": {
    "pycharm": {
     "name": "#%%\n"
    }
   },
   "outputs": [
    {
     "name": "stdout",
     "output_type": "stream",
     "text": [
      "427\n"
     ]
    },
    {
     "data": {
      "text/plain": [
       "<function matplotlib.pyplot.show(close=None, block=None)>"
      ]
     },
     "execution_count": 44,
     "metadata": {},
     "output_type": "execute_result"
    },
    {
     "data": {
      "image/png": "[encoded data removed]",
      "text/plain": [
       "<Figure size 432x288 with 1 Axes>"
      ]
     },
     "metadata": {
      "needs_background": "light"
     },
     "output_type": "display_data"
    }
   ],
   "source": [
    "import matplotlib.pyplot as plt\n",
    "\n",
    "df_time = df.index[-len(y_test):]\n",
    "print(len(df_time))\n",
    "#y_tests=y_test[:-10]\n",
    "\n",
    "#y_testss=np.insert(y_tests,0,[0,0,0,0,0,0,0,0,0,0])\n",
    "plt.plot(df_time,pre,color='blue',label='pre')\n",
    "plt.plot(df_time,y_test,color='red',label='price')\n",
    "plt.show"
   ]
  },
  {
   "cell_type": "code",
   "execution_count": null,
   "metadata": {
    "pycharm": {
     "name": "#%%\n"
    }
   },
   "outputs": [],
   "source": [
    "print(len(y_test))"
   ]
  },
  {
   "cell_type": "code",
   "execution_count": null,
   "metadata": {},
   "outputs": [],
   "source": [
    "X.shape[1:]"
   ]
  },
  {
   "cell_type": "code",
   "execution_count": null,
   "metadata": {},
   "outputs": [],
   "source": []
  }
 ],
 "metadata": {
  "kernelspec": {
   "display_name": "Python 3 (ipykernel)",
   "language": "python",
   "name": "python3"
  },
  "language_info": {
   "codemirror_mode": {
    "name": "ipython",
    "version": 3
   },
   "file_extension": ".py",
   "mimetype": "text/x-python",
   "name": "python",
   "nbconvert_exporter": "python",
   "pygments_lexer": "ipython3",
   "version": "3.8.10"
  }
 },
 "nbformat": 4,
 "nbformat_minor": 1
}
