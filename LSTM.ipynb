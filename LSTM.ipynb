{
 "cells": [
  {
   "cell_type": "code",
   "execution_count": 1,
   "metadata": {},
   "outputs": [],
   "source": [
    "import  pandas_datareader.data as pd_data\n",
    "import datetime\n",
    "start = datetime.datetime(2000,1,1)\n",
    "end = datetime.datetime(2021,11,26)\n",
    "df = pd_data.DataReader('GOOGL','stooq',start,end)\n",
    "#Google股票，世界银行从各种互联网资源中提取数据到pandas数据库中。stooq为来源之一\n"
   ]
  },
  {
   "cell_type": "code",
   "execution_count": 2,
   "metadata": {
    "pycharm": {
     "name": "#%%\n"
    }
   },
   "outputs": [
    {
     "name": "stdout",
     "output_type": "stream",
     "text": [
      "                 Open      High       Low     Close      Volume\n",
      "Date                                                           \n",
      "2004-08-19    50.0000    52.030    47.980    50.170  44703800.0\n",
      "2004-08-20    50.5050    54.540    50.250    54.155  22857200.0\n",
      "2004-08-23    55.3750    56.740    54.525    54.700  18274400.0\n",
      "2004-08-24    55.6200    55.800    51.785    52.435  15262600.0\n",
      "2004-08-25    52.4800    54.000    51.940    53.000   9197800.0\n",
      "...               ...       ...       ...       ...         ...\n",
      "2021-11-18  2964.8300  3011.610  2957.690  2996.770   1781411.0\n",
      "2021-11-19  2999.5088  3019.330  2977.980  2978.530   1684969.0\n",
      "2021-11-22  2986.6500  2996.590  2922.950  2926.040   1531460.0\n",
      "2021-11-23  2923.0600  2933.200  2882.300  2915.640   1361558.0\n",
      "2021-11-24  2909.4700  2924.985  2887.460  2922.400    902007.0\n",
      "\n",
      "[4348 rows x 5 columns]\n"
     ]
    }
   ],
   "source": [
    "df.dropna(inplace=(True))#去除空值\n",
    "df.sort_index(inplace=True)\n",
    "#inplace(原地)排序，根据之前传进来的日期\n",
    "print(df)"
   ]
  },
  {
   "cell_type": "code",
   "execution_count": 19,
   "metadata": {
    "pycharm": {
     "name": "#%%\n"
    }
   },
   "outputs": [
    {
     "data": {
      "text/html": [
       "<div>\n",
       "<style scoped>\n",
       "    .dataframe tbody tr th:only-of-type {\n",
       "        vertical-align: middle;\n",
       "    }\n",
       "\n",
       "    .dataframe tbody tr th {\n",
       "        vertical-align: top;\n",
       "    }\n",
       "\n",
       "    .dataframe thead th {\n",
       "        text-align: right;\n",
       "    }\n",
       "</style>\n",
       "<table border=\"1\" class=\"dataframe\">\n",
       "  <thead>\n",
       "    <tr style=\"text-align: right;\">\n",
       "      <th></th>\n",
       "      <th>Open</th>\n",
       "      <th>High</th>\n",
       "      <th>Low</th>\n",
       "      <th>Close</th>\n",
       "      <th>Volume</th>\n",
       "      <th>label</th>\n",
       "    </tr>\n",
       "    <tr>\n",
       "      <th>Date</th>\n",
       "      <th></th>\n",
       "      <th></th>\n",
       "      <th></th>\n",
       "      <th></th>\n",
       "      <th></th>\n",
       "      <th></th>\n",
       "    </tr>\n",
       "  </thead>\n",
       "  <tbody>\n",
       "    <tr>\n",
       "      <th>2021-11-09</th>\n",
       "      <td>2984.6600</td>\n",
       "      <td>2996.690</td>\n",
       "      <td>2944.8950</td>\n",
       "      <td>2978.37</td>\n",
       "      <td>976487.0</td>\n",
       "      <td>2915.64</td>\n",
       "    </tr>\n",
       "    <tr>\n",
       "      <th>2021-11-10</th>\n",
       "      <td>2950.0000</td>\n",
       "      <td>2961.400</td>\n",
       "      <td>2890.7500</td>\n",
       "      <td>2917.87</td>\n",
       "      <td>1498490.0</td>\n",
       "      <td>2922.40</td>\n",
       "    </tr>\n",
       "    <tr>\n",
       "      <th>2021-11-11</th>\n",
       "      <td>2929.7900</td>\n",
       "      <td>2950.710</td>\n",
       "      <td>2912.0100</td>\n",
       "      <td>2915.33</td>\n",
       "      <td>825874.0</td>\n",
       "      <td>NaN</td>\n",
       "    </tr>\n",
       "    <tr>\n",
       "      <th>2021-11-12</th>\n",
       "      <td>2932.3100</td>\n",
       "      <td>2977.000</td>\n",
       "      <td>2908.2201</td>\n",
       "      <td>2973.56</td>\n",
       "      <td>1118000.0</td>\n",
       "      <td>NaN</td>\n",
       "    </tr>\n",
       "    <tr>\n",
       "      <th>2021-11-15</th>\n",
       "      <td>2978.0100</td>\n",
       "      <td>2990.990</td>\n",
       "      <td>2951.5000</td>\n",
       "      <td>2969.04</td>\n",
       "      <td>1175352.0</td>\n",
       "      <td>NaN</td>\n",
       "    </tr>\n",
       "    <tr>\n",
       "      <th>2021-11-16</th>\n",
       "      <td>2962.9900</td>\n",
       "      <td>2975.250</td>\n",
       "      <td>2946.2500</td>\n",
       "      <td>2957.52</td>\n",
       "      <td>945200.0</td>\n",
       "      <td>NaN</td>\n",
       "    </tr>\n",
       "    <tr>\n",
       "      <th>2021-11-17</th>\n",
       "      <td>2960.5500</td>\n",
       "      <td>2971.190</td>\n",
       "      <td>2944.8000</td>\n",
       "      <td>2960.94</td>\n",
       "      <td>979975.0</td>\n",
       "      <td>NaN</td>\n",
       "    </tr>\n",
       "    <tr>\n",
       "      <th>2021-11-18</th>\n",
       "      <td>2964.8300</td>\n",
       "      <td>3011.610</td>\n",
       "      <td>2957.6900</td>\n",
       "      <td>2996.77</td>\n",
       "      <td>1781411.0</td>\n",
       "      <td>NaN</td>\n",
       "    </tr>\n",
       "    <tr>\n",
       "      <th>2021-11-19</th>\n",
       "      <td>2999.5088</td>\n",
       "      <td>3019.330</td>\n",
       "      <td>2977.9800</td>\n",
       "      <td>2978.53</td>\n",
       "      <td>1684969.0</td>\n",
       "      <td>NaN</td>\n",
       "    </tr>\n",
       "    <tr>\n",
       "      <th>2021-11-22</th>\n",
       "      <td>2986.6500</td>\n",
       "      <td>2996.590</td>\n",
       "      <td>2922.9500</td>\n",
       "      <td>2926.04</td>\n",
       "      <td>1531460.0</td>\n",
       "      <td>NaN</td>\n",
       "    </tr>\n",
       "    <tr>\n",
       "      <th>2021-11-23</th>\n",
       "      <td>2923.0600</td>\n",
       "      <td>2933.200</td>\n",
       "      <td>2882.3000</td>\n",
       "      <td>2915.64</td>\n",
       "      <td>1361558.0</td>\n",
       "      <td>NaN</td>\n",
       "    </tr>\n",
       "    <tr>\n",
       "      <th>2021-11-24</th>\n",
       "      <td>2909.4700</td>\n",
       "      <td>2924.985</td>\n",
       "      <td>2887.4600</td>\n",
       "      <td>2922.40</td>\n",
       "      <td>902007.0</td>\n",
       "      <td>NaN</td>\n",
       "    </tr>\n",
       "  </tbody>\n",
       "</table>\n",
       "</div>"
      ],
      "text/plain": [
       "                 Open      High        Low    Close     Volume    label\n",
       "Date                                                                   \n",
       "2021-11-09  2984.6600  2996.690  2944.8950  2978.37   976487.0  2915.64\n",
       "2021-11-10  2950.0000  2961.400  2890.7500  2917.87  1498490.0  2922.40\n",
       "2021-11-11  2929.7900  2950.710  2912.0100  2915.33   825874.0      NaN\n",
       "2021-11-12  2932.3100  2977.000  2908.2201  2973.56  1118000.0      NaN\n",
       "2021-11-15  2978.0100  2990.990  2951.5000  2969.04  1175352.0      NaN\n",
       "2021-11-16  2962.9900  2975.250  2946.2500  2957.52   945200.0      NaN\n",
       "2021-11-17  2960.5500  2971.190  2944.8000  2960.94   979975.0      NaN\n",
       "2021-11-18  2964.8300  3011.610  2957.6900  2996.77  1781411.0      NaN\n",
       "2021-11-19  2999.5088  3019.330  2977.9800  2978.53  1684969.0      NaN\n",
       "2021-11-22  2986.6500  2996.590  2922.9500  2926.04  1531460.0      NaN\n",
       "2021-11-23  2923.0600  2933.200  2882.3000  2915.64  1361558.0      NaN\n",
       "2021-11-24  2909.4700  2924.985  2887.4600  2922.40   902007.0      NaN"
      ]
     },
     "execution_count": 19,
     "metadata": {},
     "output_type": "execute_result"
    }
   ],
   "source": [
    "pre_days= 10 #目标是预测pre_days天后的,往上移动pre_days个\n",
    "df['label']=df['Close'].shift(-pre_days)\n",
    "#label列是收盘价的前pre_days天的结果\n",
    "\n",
    "df[-12:]"
   ]
  },
  {
   "cell_type": "code",
   "execution_count": 4,
   "metadata": {
    "pycharm": {
     "name": "#%%\n"
    }
   },
   "outputs": [
    {
     "name": "stdout",
     "output_type": "stream",
     "text": [
      "[-1.03431397 -1.03210208 -1.03592229 -1.03340352  4.92528248]\n"
     ]
    }
   ],
   "source": [
    "from sklearn.preprocessing import StandardScaler\n",
    "scaler = StandardScaler()\n",
    "sca_X=scaler.fit_transform(df.iloc[:,:-1])\n",
    "#iloc,pandas的类似数组的数据结构，所有行和0到倒数第2列，直接fit_transform\n",
    "#fit_transform 先拟合数据(Compute the mean and std to be used for later scaling.)计算平均值和标准差，用于以后的缩放\n",
    "#再实现统一处理（Perform standardization by centering and scaling.）通过居中和缩放执行标准化\n",
    "print(sca_X[0])\n",
    "#sca_X把每一列都做了处理"
   ]
  },
  {
   "cell_type": "code",
   "execution_count": 5,
   "metadata": {
    "pycharm": {
     "name": "#%%\n"
    }
   },
   "outputs": [
    {
     "name": "stdout",
     "output_type": "stream",
     "text": [
      "10\n",
      "4339\n",
      "10\n",
      "4329\n",
      "4329\n"
     ]
    }
   ],
   "source": [
    "mem_his_days = 10\n",
    "#记忆的天数\n",
    "from collections import deque\n",
    "deq = deque(maxlen=mem_his_days)\n",
    "#队列的最大长度为记忆天数\n",
    "\n",
    "X = []\n",
    "for i in sca_X:\n",
    "    list(i)\n",
    "    deq.append(list(i))\n",
    "    if len(deq)==mem_his_days:\n",
    "        X.append(list(deq))\n",
    "#X的shape是(4330,mem_his_days,5);每个样本存的是(mem_his_days，5)的shape\n",
    "#每次fori的时候，i是一个5的张量，然后每次X.append5个张量，\n",
    "# 也就是说mem_his_days天的数据*每天的5个特征\n",
    "X_latey = X[-pre_days:]\n",
    "print(len(X[0]))\n",
    "print(len(X))\n",
    "#少的是men_his_days-1，序列未满时的值\n",
    "print(len(X_latey))\n",
    "X=X[:-pre_days]\n",
    "#删掉nan的值。\n",
    "#得到纯粹的训练集\n",
    "print(len(X))\n",
    "y = df['label'].values[mem_his_days-1:-pre_days]\n",
    "print(len(y))\n",
    "#y标签从第mem_his_days-1天开始作为训练标签\n",
    "#最后-pre_days个数据作为输出，而不是训练。\n"
   ]
  },
  {
   "cell_type": "code",
   "execution_count": 6,
   "metadata": {
    "pycharm": {
     "name": "#%%\n"
    }
   },
   "outputs": [
    {
     "name": "stdout",
     "output_type": "stream",
     "text": [
      "(4329, 10, 5)\n",
      "(4329,)\n"
     ]
    }
   ],
   "source": [
    "import numpy as np\n",
    "X = np.array(X)\n",
    "#4330个样本，每个样本有(10天*每天5个特征)\n",
    "y = np.array(y)\n",
    "print(X.shape)\n",
    "#4330个样本，每个样本5个特征\n",
    "print(y.shape)\n",
    "#4330个标签"
   ]
  },
  {
   "cell_type": "code",
   "execution_count": 7,
   "metadata": {},
   "outputs": [
    {
     "name": "stdout",
     "output_type": "stream",
     "text": [
      "[[ 3.92039481  3.87574831  3.87943883  3.87312576 -0.60587104]\n",
      " [ 3.84994579  3.91255129  3.88022507  3.94832882 -0.56000371]\n",
      " [ 3.95161984  3.90589688  3.83101193  3.79261706 -0.53677359]\n",
      " [ 3.8328688   3.85710916  3.86937329  3.85886901 -0.62343506]\n",
      " [ 3.87812197  3.85914623  3.87820332  3.89876394 -0.66204941]\n",
      " [ 3.92005224  3.96318934  3.93754248  3.95591074 -0.59165497]\n",
      " [ 3.99010731  3.98335628  4.00282592  3.97591811 -0.59201939]\n",
      " [ 4.01256261  3.99310873  4.01089563  3.98204526 -0.69068128]\n",
      " [ 3.99228261  3.9666184   3.96991636  3.9781944  -0.71339444]\n",
      " [ 3.93291566  3.9067117   3.87635437  3.87464899 -0.64608167]]\n",
      "2922.4\n"
     ]
    }
   ],
   "source": [
    "print(X[-1])\n",
    "print(y[-1])"
   ]
  },
  {
   "cell_type": "code",
   "execution_count": 8,
   "metadata": {
    "pycharm": {
     "name": "#%%\n"
    }
   },
   "outputs": [
    {
     "name": "stdout",
     "output_type": "stream",
     "text": [
      "(3896, 10, 5)\n"
     ]
    }
   ],
   "source": [
    "from sklearn.model_selection import train_test_split\n",
    "X_train, X_test, y_train, y_test = train_test_split(X, y,shuffle=False, test_size=0.1)\n",
    "print(X_train.shape)"
   ]
  },
  {
   "cell_type": "code",
   "execution_count": 9,
   "metadata": {
    "pycharm": {
     "name": "#%%\n"
    }
   },
   "outputs": [
    {
     "name": "stdout",
     "output_type": "stream",
     "text": [
      "WARNING:tensorflow:Layer lstm will not use cuDNN kernels since it doesn't meet the criteria. It will use a generic GPU kernel as fallback when running on GPU.\n",
      "WARNING:tensorflow:Layer lstm_1 will not use cuDNN kernels since it doesn't meet the criteria. It will use a generic GPU kernel as fallback when running on GPU.\n"
     ]
    }
   ],
   "source": [
    "#构建模型\n",
    "import tensorflow as tf\n",
    "from tensorflow.keras.models import Sequential\n",
    "from tensorflow.keras.layers import LSTM,Dense,Dropout\n",
    "model = Sequential()\n",
    "#序列添加\n",
    "model.add(LSTM(16,input_shape=X.shape[1:],activation='relu',return_sequences=True))\n",
    "#一层16个lstm单元，返回16个序列的h隐藏变量给下一层\n",
    "model.add(Dropout(0.1))\n",
    "\n",
    "\n",
    "\n",
    "model.add(LSTM(16, activation='relu'))\n",
    "#第二层，返回输出序列的最后一个输出\n",
    "model.add(Dropout(0.1))\n",
    "\n",
    "model.add(Dense(8,activation='relu'))\n",
    "#全连接层\n",
    "model.add(Dropout(0.1))\n",
    "\n",
    "model.add(Dense(1))\n",
    "#全连接层\n",
    "\n",
    "model.compile(optimizer=\"Adam\", loss=\"mse\", metrics=[\"mape\"])\n",
    "#MeanAbsolutePercentageError 平均绝对百分比误差 metrics(度量)\n",
    "#MeanSquaredError 均方误差\n"
   ]
  },
  {
   "cell_type": "code",
   "execution_count": null,
   "metadata": {},
   "outputs": [],
   "source": []
  },
  {
   "cell_type": "code",
   "execution_count": 10,
   "metadata": {
    "pycharm": {
     "name": "#%%\n"
    }
   },
   "outputs": [
    {
     "name": "stdout",
     "output_type": "stream",
     "text": [
      "Epoch 1/15\n",
      "122/122 [==============================] - 28s 160ms/step - loss: 296922.8750 - mape: 89.1765 - val_loss: 3642892.0000 - val_mape: 70.6255\n",
      "Epoch 2/15\n",
      "122/122 [==============================] - 17s 141ms/step - loss: 32136.6855 - mape: 32.4088 - val_loss: 177022.8594 - val_mape: 15.8164\n",
      "Epoch 3/15\n",
      "122/122 [==============================] - 17s 139ms/step - loss: 24217.3906 - mape: 27.9045 - val_loss: 168890.4688 - val_mape: 15.1095\n",
      "Epoch 4/15\n",
      "122/122 [==============================] - 17s 140ms/step - loss: 18761.1172 - mape: 24.1113 - val_loss: 125800.0156 - val_mape: 13.2945\n",
      "Epoch 5/15\n",
      "122/122 [==============================] - 17s 139ms/step - loss: 18469.7207 - mape: 22.3523 - val_loss: 55633.9141 - val_mape: 9.5476\n",
      "Epoch 6/15\n",
      "122/122 [==============================] - 17s 139ms/step - loss: 17109.0547 - mape: 20.9001 - val_loss: 29943.1230 - val_mape: 7.8234\n",
      "Epoch 7/15\n",
      "122/122 [==============================] - 17s 139ms/step - loss: 16523.9746 - mape: 19.6402 - val_loss: 40704.3828 - val_mape: 9.6637\n",
      "Epoch 8/15\n",
      "122/122 [==============================] - 17s 143ms/step - loss: 17049.4648 - mape: 18.4328 - val_loss: 30168.3711 - val_mape: 7.8026\n",
      "Epoch 9/15\n",
      "122/122 [==============================] - 18s 146ms/step - loss: 16183.9727 - mape: 18.4222 - val_loss: 29821.8262 - val_mape: 7.9508\n",
      "Epoch 10/15\n",
      "122/122 [==============================] - 18s 147ms/step - loss: 14845.8809 - mape: 16.9178 - val_loss: 44914.8555 - val_mape: 10.2713\n",
      "Epoch 11/15\n",
      "122/122 [==============================] - 18s 146ms/step - loss: 15536.8447 - mape: 17.3400 - val_loss: 26495.1172 - val_mape: 7.4973\n",
      "Epoch 12/15\n",
      "122/122 [==============================] - 18s 146ms/step - loss: 13771.8145 - mape: 16.8029 - val_loss: 23755.6660 - val_mape: 6.9967\n",
      "Epoch 13/15\n",
      "122/122 [==============================] - 17s 142ms/step - loss: 14468.9033 - mape: 17.0460 - val_loss: 75863.7578 - val_mape: 13.5000\n",
      "Epoch 14/15\n",
      "122/122 [==============================] - 17s 141ms/step - loss: 14134.1895 - mape: 16.7171 - val_loss: 35424.4258 - val_mape: 8.9846\n",
      "Epoch 15/15\n",
      "122/122 [==============================] - 17s 139ms/step - loss: 14655.1455 - mape: 16.6573 - val_loss: 42890.3086 - val_mape: 10.0072\n"
     ]
    },
    {
     "data": {
      "text/plain": [
       "<keras.callbacks.History at 0x1f7d25b9280>"
      ]
     },
     "execution_count": 10,
     "metadata": {},
     "output_type": "execute_result"
    }
   ],
   "source": [
    "from tensorflow import keras\n",
    "\n",
    "#tensorboard_callback = keras.callbacks.TensorBoard(log_dir='./logs/log')\n",
    "#model.fit(X_train,y_train,batch_size=32,epochs=15,validation_data=(X_test,y_test),callbacks=[tensorboard_callback])\n",
    "model.fit(X_train,y_train,batch_size=32,epochs=15,validation_data=(X_test,y_test))\n"
   ]
  },
  {
   "cell_type": "code",
   "execution_count": 11,
   "metadata": {
    "pycharm": {
     "is_executing": true,
     "name": "#%%\n"
    }
   },
   "outputs": [],
   "source": [
    "from tensorflow.keras.models import load_model\n",
    "\n",
    "\n",
    "#best_model = load_model('./logs/model')\n",
    "best_model = model"
   ]
  },
  {
   "cell_type": "code",
   "execution_count": 13,
   "metadata": {
    "pycharm": {
     "name": "#%%\n"
    }
   },
   "outputs": [
    {
     "name": "stdout",
     "output_type": "stream",
     "text": [
      "Model: \"sequential\"\n",
      "_________________________________________________________________\n",
      " Layer (type)                Output Shape              Param #   \n",
      "=================================================================\n",
      " lstm (LSTM)                 (None, 10, 16)            1408      \n",
      "                                                                 \n",
      " dropout (Dropout)           (None, 10, 16)            0         \n",
      "                                                                 \n",
      " lstm_1 (LSTM)               (None, 16)                2112      \n",
      "                                                                 \n",
      " dropout_1 (Dropout)         (None, 16)                0         \n",
      "                                                                 \n",
      " dense (Dense)               (None, 8)                 136       \n",
      "                                                                 \n",
      " dropout_2 (Dropout)         (None, 8)                 0         \n",
      "                                                                 \n",
      " dense_1 (Dense)             (None, 1)                 9         \n",
      "                                                                 \n",
      "=================================================================\n",
      "Total params: 3,665\n",
      "Trainable params: 3,665\n",
      "Non-trainable params: 0\n",
      "_________________________________________________________________\n",
      "None\n",
      "14/14 [==============================] - 0s 14ms/step - loss: 42890.3086 - mape: 10.0072\n",
      "[42890.30859375, 10.00716495513916]\n",
      "INFO:tensorflow:Assets written to: ./logs/model\\assets\n"
     ]
    },
    {
     "name": "stderr",
     "output_type": "stream",
     "text": [
      "WARNING:absl:<keras.layers.recurrent.LSTMCell object at 0x000001F7CBCE7F40> has the same name 'LSTMCell' as a built-in Keras object. Consider renaming <class 'keras.layers.recurrent.LSTMCell'> to avoid naming conflicts when loading with `tf.keras.models.load_model`. If renaming is not possible, pass the object in the `custom_objects` parameter of the load function.\n",
      "WARNING:absl:<keras.layers.recurrent.LSTMCell object at 0x000001F7CBD14DC0> has the same name 'LSTMCell' as a built-in Keras object. Consider renaming <class 'keras.layers.recurrent.LSTMCell'> to avoid naming conflicts when loading with `tf.keras.models.load_model`. If renaming is not possible, pass the object in the `custom_objects` parameter of the load function.\n"
     ]
    }
   ],
   "source": [
    "#print(\"input_shape:\",X.shape[1:])\n",
    "print(best_model.summary())\n",
    "print(best_model.evaluate(X_test,y_test))\n",
    "pre = best_model.predict(X_test)\n",
    "\n",
    "model.save(\"./logs/model\")"
   ]
  },
  {
   "cell_type": "code",
   "execution_count": 14,
   "metadata": {
    "pycharm": {
     "is_executing": true
    }
   },
   "outputs": [
    {
     "name": "stdout",
     "output_type": "stream",
     "text": [
      "433\n",
      "433\n"
     ]
    }
   ],
   "source": [
    "print(len(y_test))\n",
    "print(len(pre))"
   ]
  },
  {
   "cell_type": "code",
   "execution_count": 15,
   "metadata": {
    "pycharm": {
     "is_executing": true,
     "name": "#%%\n"
    }
   },
   "outputs": [
    {
     "name": "stdout",
     "output_type": "stream",
     "text": [
      "433\n"
     ]
    },
    {
     "data": {
      "text/plain": [
       "<function matplotlib.pyplot.show(close=None, block=None)>"
      ]
     },
     "execution_count": 15,
     "metadata": {},
     "output_type": "execute_result"
    },
    {
     "data": {
      "image/png": "[encoded data removed]",
      "text/plain": [
       "<Figure size 432x288 with 1 Axes>"
      ]
     },
     "metadata": {
      "needs_background": "light"
     },
     "output_type": "display_data"
    }
   ],
   "source": [
    "import matplotlib.pyplot as plt\n",
    "\n",
    "df_time = df.index[-len(y_test):]\n",
    "print(len(df_time))\n",
    "#y_tests=y_test[:-10]\n",
    "\n",
    "#y_testss=np.insert(y_tests,0,[0,0,0,0,0,0,0,0,0,0])\n",
    "plt.plot(df_time,pre,color='blue',label='pre')\n",
    "plt.plot(df_time,y_test,color='red',label='price')\n",
    "plt.show"
   ]
  },
  {
   "cell_type": "code",
   "execution_count": 16,
   "metadata": {
    "pycharm": {
     "name": "#%%\n"
    }
   },
   "outputs": [
    {
     "name": "stdout",
     "output_type": "stream",
     "text": [
      "433\n"
     ]
    }
   ],
   "source": [
    "print(len(y_test))"
   ]
  },
  {
   "cell_type": "code",
   "execution_count": 17,
   "metadata": {},
   "outputs": [
    {
     "data": {
      "text/plain": [
       "(10, 5)"
      ]
     },
     "execution_count": 17,
     "metadata": {},
     "output_type": "execute_result"
    }
   ],
   "source": [
    "X.shape[1:]"
   ]
  },
  {
   "cell_type": "code",
   "execution_count": null,
   "metadata": {},
   "outputs": [],
   "source": []
  }
 ],
 "metadata": {
  "kernelspec": {
   "display_name": "Python 3 (ipykernel)",
   "language": "python",
   "name": "python3"
  },
  "language_info": {
   "codemirror_mode": {
    "name": "ipython",
    "version": 3
   },
   "file_extension": ".py",
   "mimetype": "text/x-python",
   "name": "python",
   "nbconvert_exporter": "python",
   "pygments_lexer": "ipython3",
   "version": "3.8.10"
  }
 },
 "nbformat": 4,
 "nbformat_minor": 1
}